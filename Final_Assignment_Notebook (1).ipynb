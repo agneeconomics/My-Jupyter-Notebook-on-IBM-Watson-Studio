{
  "metadata": {
    "language_info": {
      "codemirror_mode": {
        "name": "python",
        "version": 3
      },
      "file_extension": ".py",
      "mimetype": "text/x-python",
      "name": "python",
      "nbconvert_exporter": "python",
      "pygments_lexer": "ipython3",
      "version": "3.8"
    },
    "kernelspec": {
      "name": "python",
      "display_name": "Pyolite",
      "language": "python"
    }
  },
  "nbformat_minor": 4,
  "nbformat": 4,
  "cells": [
    {
      "cell_type": "markdown",
      "source": "# My Jupyter Notebook on IBM Watson Studio",
      "metadata": {}
    },
    {
      "cell_type": "markdown",
      "source": "**Agnė Griškevičiūtė** <br> Data scientist",
      "metadata": {}
    },
    {
      "cell_type": "markdown",
      "source": "*I am interested in data science because I was always interested in statistics, coding and finding solutions*",
      "metadata": {}
    },
    {
      "cell_type": "markdown",
      "source": "### The code in below should print a popular quatation",
      "metadata": {}
    },
    {
      "cell_type": "code",
      "source": "print(\"Data Scientist: The Sexiest Job of the 21st Century\")",
      "metadata": {
        "trusted": true
      },
      "execution_count": 1,
      "outputs": [
        {
          "name": "stdout",
          "text": "Data Scientist: The Sexiest Job of the 21st Century\n",
          "output_type": "stream"
        }
      ]
    },
    {
      "cell_type": "markdown",
      "source": "\n- Item 1\n- Item 2\n\n1. First item\n2. Second item\n\n\n\n|    Left   |   Center   |   Right   |\n| :-------- | ---------: | --------: |\n|     1     |      A     |     C     |\n|     2     |      B     |     D     |\n\n<br>\n\n[Link](https://jupyterbook.org/en/stable/reference/cheatsheet.html\n\"optional title\")\n\n<br>\n\n```python\nprint(\"Data Scientist: The Sexiest Job of the 21st Century\");\n```\n<br>\n\n> blockqoute text\n\n<br>\n~~strikethrough~~ \n<br>\n",
      "metadata": {}
    }
  ]
}